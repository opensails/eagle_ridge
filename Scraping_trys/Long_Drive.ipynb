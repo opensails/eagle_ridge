{
 "nbformat": 4,
 "nbformat_minor": 2,
 "metadata": {
  "language_info": {
   "name": "python",
   "codemirror_mode": {
    "name": "ipython",
    "version": 3
   },
   "version": "3.7.4-final"
  },
  "orig_nbformat": 2,
  "file_extension": ".py",
  "mimetype": "text/x-python",
  "name": "python",
  "npconvert_exporter": "python",
  "pygments_lexer": "ipython3",
  "version": 3,
  "kernelspec": {
   "name": "python37464bitbaseconda445ec84078114cfa90d29e08c78872a3",
   "display_name": "Python 3.7.4 64-bit ('base': conda)"
  }
 },
 "cells": [
  {
   "cell_type": "code",
   "execution_count": 1,
   "metadata": {},
   "outputs": [],
   "source": [
    "import requests\n",
    "import lxml.html as lh\n",
    "import pandas as pd"
   ]
  },
  {
   "cell_type": "code",
   "execution_count": 2,
   "metadata": {},
   "outputs": [],
   "source": [
    "url='https://www.pgatour.com/stats/stat.159.html'\n",
    "#Create a handle, page, to handle the contents of the website\n",
    "page = requests.get(url)\n",
    "#Store the contents of the website under doc\n",
    "doc = lh.fromstring(page.content)\n",
    "#Parse data that are stored between <tr>..</tr> of HTML\n",
    "tr_elements = doc.xpath('//tr')"
   ]
  },
  {
   "cell_type": "code",
   "execution_count": 3,
   "metadata": {},
   "outputs": [
    {
     "data": {
      "text/plain": "[3, 9, 9, 9, 9, 9, 9, 9, 9, 9, 9, 9]"
     },
     "execution_count": 3,
     "metadata": {},
     "output_type": "execute_result"
    }
   ],
   "source": [
    "#Check the length of the first 12 rows\n",
    "[len(T) for T in tr_elements[:12]]"
   ]
  },
  {
   "cell_type": "code",
   "execution_count": 4,
   "metadata": {},
   "outputs": [
    {
     "name": "stdout",
     "output_type": "stream",
     "text": "1:\"RANK THIS WEEK\"\n2:\"RANK LAST WEEK\"\n3:\"PLAYER NAME\"\n4:\"ROUNDS\"\n5:\"DISTANCE\"\n6:\"TOURNAMENT\"\n7:\"ROUND\"\n8:\"HOLE\"\n9:\"COURSE\"\n"
    }
   ],
   "source": [
    "#Create empty list\n",
    "col=[]\n",
    "i=0\n",
    "#For each row, store each first element (header) and an empty list\n",
    "for t in tr_elements[1]:\n",
    "    i+=1\n",
    "    name=t.text_content()\n",
    "    print('%d:\"%s\"'%(i,name))\n",
    "    col.append((name,[]))"
   ]
  },
  {
   "cell_type": "code",
   "execution_count": 5,
   "metadata": {},
   "outputs": [],
   "source": [
    "#Since out first row is the header, data is stored on the second row onwards\n",
    "for j in range(1,len(tr_elements)):\n",
    "    #T is our j'th row\n",
    "    T=tr_elements[j]\n",
    "    \n",
    "    #If row is not of size 10, the //tr data is not from our table \n",
    "    if len(T)!=9:\n",
    "        break\n",
    "    \n",
    "    #i is the index of our column\n",
    "    i=0\n",
    "    \n",
    "    #Iterate through each element of the row\n",
    "    for t in T.iterchildren():\n",
    "        data=t.text_content() \n",
    "        #Check if row is empty\n",
    "        if i>0:\n",
    "        #Convert any numerical value to integers\n",
    "            try:\n",
    "                data=int(data)\n",
    "            except:\n",
    "                pass\n",
    "        #Append the data to the empty list of the i'th column\n",
    "        col[i][1].append(data)\n",
    "        #Increment i for the next column\n",
    "        i+=1"
   ]
  },
  {
   "cell_type": "code",
   "execution_count": 6,
   "metadata": {},
   "outputs": [
    {
     "data": {
      "text/plain": "[439, 439, 439, 439, 439, 439, 439, 439, 439]"
     },
     "execution_count": 6,
     "metadata": {},
     "output_type": "execute_result"
    }
   ],
   "source": [
    "[len(C) for (title,C) in col]"
   ]
  },
  {
   "cell_type": "code",
   "execution_count": 7,
   "metadata": {},
   "outputs": [],
   "source": [
    "Dict={title:column for (title,column) in col}\n",
    "df=pd.DataFrame(Dict)"
   ]
  },
  {
   "cell_type": "code",
   "execution_count": 8,
   "metadata": {},
   "outputs": [
    {
     "name": "stdout",
     "output_type": "stream",
     "text": "RANK THIS WEEK  RANK LAST WEEK                      PLAYER NAME  ROUNDS  \\\n0    RANK THIS WEEK  RANK LAST WEEK                      PLAYER NAME  ROUNDS   \n1       \\n        1               1    \\n    Justin Thomas\\n              28   \n2       \\n        2               2    \\n    Lanto Griffin\\n              58   \n3       \\n        3               3         \\n    Jon Rahm\\n              20   \n4       \\n        4               4    \\n    Cameron Champ\\n              38   \n..              ...             ...                              ...     ...   \n434  \\n        T433  \\n        T429  \\n    Derek Gillespie\\n               2   \n435  \\n        T435  \\n        T431      \\n    David Duval\\n               1   \n436  \\n        T435  \\n        T431  \\n    Edward Figueroa\\n               2   \n437   \\n        437             433        \\n    Fred Funk\\n               2   \n438   \\n        438             434   \\n    Dwayne Pearman\\n               2   \n\n     DISTANCE    TOURNAMENT  ROUND  HOLE  COURSE  \n0    DISTANCE    TOURNAMENT  ROUND  HOLE  COURSE  \n1         449    WGC-Mexico      4     2     240  \n2         429        Sentry      1     7     656  \n3         415        Sentry      4     7     656  \n4         413        Sentry      1     7     656  \n..        ...           ...    ...   ...     ...  \n434       281   Puerto Rico      1     5     742  \n435       275  Pebble Beach      1    10       5  \n436       275   Puerto Rico      2     2     742  \n437       253       Bermuda      2     2     765  \n438       243       Bermuda      2    12     765  \n\n[439 rows x 9 columns] \n Success\n"
    }
   ],
   "source": [
    "df.to_csv('Longest_Drive.csv', index = False)\n",
    "print(df,\"\\n Success\")"
   ]
  },
  {
   "cell_type": "code",
   "execution_count": null,
   "metadata": {},
   "outputs": [],
   "source": []
  }
 ]
}