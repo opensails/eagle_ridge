{
 "nbformat": 4,
 "nbformat_minor": 2,
 "metadata": {
  "language_info": {
   "name": "python",
   "codemirror_mode": {
    "name": "ipython",
    "version": 3
   },
   "version": "3.7.4-final"
  },
  "orig_nbformat": 2,
  "file_extension": ".py",
  "mimetype": "text/x-python",
  "name": "python",
  "npconvert_exporter": "python",
  "pygments_lexer": "ipython3",
  "version": 3,
  "kernelspec": {
   "name": "python37464bitbaseconda445ec84078114cfa90d29e08c78872a3",
   "display_name": "Python 3.7.4 64-bit ('base': conda)"
  }
 },
 "cells": [
  {
   "cell_type": "code",
   "execution_count": 21,
   "metadata": {},
   "outputs": [],
   "source": [
    "#import Libraries\n",
    "import requests\n",
    "from bs4 import BeautifulSoup\n",
    "import pandas as pd\n",
    "from collections import OrderedDict"
   ]
  },
  {
   "cell_type": "code",
   "execution_count": 22,
   "metadata": {},
   "outputs": [],
   "source": [
    "# Request URL\n",
    "page = requests.get(\"https://www.pgatour.com/stats/stat.02675.html\")\n",
    "#fetch webpage\n",
    "soup = BeautifulSoup(page.content,'html.parser')"
   ]
  },
  {
   "cell_type": "code",
   "execution_count": 24,
   "metadata": {},
   "outputs": [],
   "source": [
    "stats = []"
   ]
  },
  {
   "cell_type": "code",
   "execution_count": 26,
   "metadata": {},
   "outputs": [
    {
     "name": "stdout",
     "output_type": "stream",
     "text": "16\n"
    }
   ],
   "source": [
    "for stat in range(1):\n",
    "    all = soup.find_all(\"td\")\n",
    "    for item in range(1):\n",
    "        d=OrderedDict()\n",
    "        d['Name'] = soup.find(\"td\", {\"class\":\"player-name\"}).text.replace(\"\\n\",\"\").strip()\n",
    "        d['Stats'] = soup.find(\"td\", {\"class\":\"hidden-small hidden-medium\"}).text.replace(\"\\n\",\"\").strip()\n",
    "        print(d['Stats'])"
   ]
  },
  {
   "cell_type": "code",
   "execution_count": null,
   "metadata": {},
   "outputs": [],
   "source": []
  }
 ]
}