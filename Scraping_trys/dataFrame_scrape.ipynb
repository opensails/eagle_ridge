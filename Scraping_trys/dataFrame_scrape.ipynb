{
 "nbformat": 4,
 "nbformat_minor": 2,
 "metadata": {
  "language_info": {
   "name": "python",
   "codemirror_mode": {
    "name": "ipython",
    "version": 3
   },
   "version": "3.7.4-final"
  },
  "orig_nbformat": 2,
  "file_extension": ".py",
  "mimetype": "text/x-python",
  "name": "python",
  "npconvert_exporter": "python",
  "pygments_lexer": "ipython3",
  "version": 3,
  "kernelspec": {
   "name": "python37464bitbaseconda445ec84078114cfa90d29e08c78872a3",
   "display_name": "Python 3.7.4 64-bit ('base': conda)"
  }
 },
 "cells": [
  {
   "cell_type": "code",
   "execution_count": 11,
   "metadata": {},
   "outputs": [],
   "source": [
    "import pandas as pd"
   ]
  },
  {
   "cell_type": "code",
   "execution_count": 29,
   "metadata": {},
   "outputs": [
    {
     "name": "stdout",
     "output_type": "stream",
     "text": "Empty DataFrame\nColumns: [Unnamed: 0, It appears your browser may be outdated. For the best website experience, we recommend updating your browser. learn more, Unnamed: 2]\nIndex: []\n    RANK THIS WEEK RANK LAST WEEK        PLAYER NAME  ROUNDS  AVERAGE  \\\n0                1            NaN     Tyrrell Hatton      16    3.078   \n1                2              1       Rory McIlroy      24    2.537   \n2                3              2           Jon Rahm      20    2.222   \n3                4              8  Bryson DeChambeau      26    1.960   \n4                5              3      Justin Thomas      28    1.958   \n..             ...            ...                ...     ...      ...   \n226            227            224     Martin Trainer      34   -2.736   \n227            228            225    Satoshi Kodaira      31   -2.785   \n228            229            226        Michael Kim      14   -3.058   \n229            230            227       Ryo Ishikawa      14   -3.810   \n230            231            228      Kevin Stadler      20   -4.709   \n\n     TOTAL SG:T  TOTAL SG:T2G  TOTAL SG:P  MEASURED ROUNDS  \n0        24.623        20.846       3.777                8  \n1        38.061        35.993       2.068               15  \n2        42.225        23.309      18.917               19  \n3        50.952        37.036      13.918               26  \n4        39.154        35.104       4.052               20  \n..          ...           ...         ...              ...  \n226     -73.881       -68.004      -5.876               27  \n227     -47.339       -30.435     -16.902               17  \n228     -24.467       -20.716      -3.750                8  \n229     -22.860       -11.850     -11.010                6  \n230     -51.803       -34.656     -17.147               11  \n\n[231 rows x 9 columns]\n"
    }
   ],
   "source": [
    "\n",
    "dfs = pd.read_html('https://www.pgatour.com/stats/stat.02675.html',header=0)\n",
    "for df1 in dfs:\n",
    "    print(df1)"
   ]
  },
  {
   "cell_type": "code",
   "execution_count": 31,
   "metadata": {},
   "outputs": [
    {
     "data": {
      "text/html": "<div>\n<style scoped>\n    .dataframe tbody tr th:only-of-type {\n        vertical-align: middle;\n    }\n\n    .dataframe tbody tr th {\n        vertical-align: top;\n    }\n\n    .dataframe thead th {\n        text-align: right;\n    }\n</style>\n<table border=\"1\" class=\"dataframe\">\n  <thead>\n    <tr style=\"text-align: right;\">\n      <th></th>\n      <th>RANK THIS WEEK</th>\n      <th>RANK LAST WEEK</th>\n      <th>PLAYER NAME</th>\n      <th>ROUNDS</th>\n      <th>AVERAGE</th>\n      <th>TOTAL SG:T</th>\n      <th>TOTAL SG:T2G</th>\n      <th>TOTAL SG:P</th>\n      <th>MEASURED ROUNDS</th>\n    </tr>\n  </thead>\n  <tbody>\n    <tr>\n      <th>0</th>\n      <td>1</td>\n      <td>NaN</td>\n      <td>Tyrrell Hatton</td>\n      <td>16</td>\n      <td>3.078</td>\n      <td>24.623</td>\n      <td>20.846</td>\n      <td>3.777</td>\n      <td>8</td>\n    </tr>\n    <tr>\n      <th>1</th>\n      <td>2</td>\n      <td>1</td>\n      <td>Rory McIlroy</td>\n      <td>24</td>\n      <td>2.537</td>\n      <td>38.061</td>\n      <td>35.993</td>\n      <td>2.068</td>\n      <td>15</td>\n    </tr>\n    <tr>\n      <th>2</th>\n      <td>3</td>\n      <td>2</td>\n      <td>Jon Rahm</td>\n      <td>20</td>\n      <td>2.222</td>\n      <td>42.225</td>\n      <td>23.309</td>\n      <td>18.917</td>\n      <td>19</td>\n    </tr>\n    <tr>\n      <th>3</th>\n      <td>4</td>\n      <td>8</td>\n      <td>Bryson DeChambeau</td>\n      <td>26</td>\n      <td>1.960</td>\n      <td>50.952</td>\n      <td>37.036</td>\n      <td>13.918</td>\n      <td>26</td>\n    </tr>\n    <tr>\n      <th>4</th>\n      <td>5</td>\n      <td>3</td>\n      <td>Justin Thomas</td>\n      <td>28</td>\n      <td>1.958</td>\n      <td>39.154</td>\n      <td>35.104</td>\n      <td>4.052</td>\n      <td>20</td>\n    </tr>\n  </tbody>\n</table>\n</div>",
      "text/plain": "  RANK THIS WEEK RANK LAST WEEK        PLAYER NAME  ROUNDS  AVERAGE  \\\n0              1            NaN     Tyrrell Hatton      16    3.078   \n1              2              1       Rory McIlroy      24    2.537   \n2              3              2           Jon Rahm      20    2.222   \n3              4              8  Bryson DeChambeau      26    1.960   \n4              5              3      Justin Thomas      28    1.958   \n\n   TOTAL SG:T  TOTAL SG:T2G  TOTAL SG:P  MEASURED ROUNDS  \n0      24.623        20.846       3.777                8  \n1      38.061        35.993       2.068               15  \n2      42.225        23.309      18.917               19  \n3      50.952        37.036      13.918               26  \n4      39.154        35.104       4.052               20  "
     },
     "execution_count": 31,
     "metadata": {},
     "output_type": "execute_result"
    }
   ],
   "source": [
    "df1.head()"
   ]
  },
  {
   "cell_type": "code",
   "execution_count": 28,
   "metadata": {},
   "outputs": [
    {
     "name": "stdout",
     "output_type": "stream",
     "text": "Empty DataFrame\nColumns: [Unnamed: 0, It appears your browser may be outdated. For the best website experience, we recommend updating your browser. learn more, Unnamed: 2]\nIndex: []\n  RANK THIS WEEK RANK LAST WEEK         PLAYER NAME  ROUNDS  AVERAGE  \\\n0              1              2    Louis Oosthuizen      14    1.360   \n1              2              1      Denny McCarthy      48    1.347   \n2              3              3        Patrick Reed      30    1.093   \n3              4              5            Jon Rahm      20    0.996   \n4              5              7  Kristoffer Ventura      34    0.959   \n\n   TOTAL SG:PUTTING  MEASURED ROUNDS  \n0             8.160                6  \n1            48.477               36  \n2            22.960               21  \n3            18.917               19  \n4            17.266               18  \n"
    }
   ],
   "source": [
    "dfp = pd.read_html('https://www.pgatour.com/stats/stat.02564.html', header=0)\n",
    "for df2 in dfp:\n",
    "    print(df2.head())"
   ]
  },
  {
   "cell_type": "code",
   "execution_count": 32,
   "metadata": {},
   "outputs": [
    {
     "data": {
      "text/html": "<div>\n<style scoped>\n    .dataframe tbody tr th:only-of-type {\n        vertical-align: middle;\n    }\n\n    .dataframe tbody tr th {\n        vertical-align: top;\n    }\n\n    .dataframe thead th {\n        text-align: right;\n    }\n</style>\n<table border=\"1\" class=\"dataframe\">\n  <thead>\n    <tr style=\"text-align: right;\">\n      <th></th>\n      <th>RANK THIS WEEKsg_total</th>\n      <th>RANK LAST WEEKsg_total</th>\n      <th>PLAYER NAME</th>\n      <th>ROUNDSsg_total</th>\n      <th>AVERAGEsg_total</th>\n      <th>TOTAL SG:T</th>\n      <th>TOTAL SG:T2G</th>\n      <th>TOTAL SG:P</th>\n      <th>MEASURED ROUNDSsg_total</th>\n      <th>RANK THIS WEEKsg_putting</th>\n      <th>RANK LAST WEEKsg_putting</th>\n      <th>ROUNDSsg_putting</th>\n      <th>AVERAGEsg_putting</th>\n      <th>TOTAL SG:PUTTING</th>\n      <th>MEASURED ROUNDSsg_putting</th>\n    </tr>\n  </thead>\n  <tbody>\n    <tr>\n      <th>0</th>\n      <td>1</td>\n      <td>NaN</td>\n      <td>Tyrrell Hatton</td>\n      <td>16</td>\n      <td>3.078</td>\n      <td>24.623</td>\n      <td>20.846</td>\n      <td>3.777</td>\n      <td>8</td>\n      <td>32</td>\n      <td>NaN</td>\n      <td>16</td>\n      <td>0.472</td>\n      <td>3.777</td>\n      <td>8</td>\n    </tr>\n    <tr>\n      <th>1</th>\n      <td>2</td>\n      <td>1</td>\n      <td>Rory McIlroy</td>\n      <td>24</td>\n      <td>2.537</td>\n      <td>38.061</td>\n      <td>35.993</td>\n      <td>2.068</td>\n      <td>15</td>\n      <td>92</td>\n      <td>72</td>\n      <td>24</td>\n      <td>0.138</td>\n      <td>2.068</td>\n      <td>15</td>\n    </tr>\n    <tr>\n      <th>2</th>\n      <td>3</td>\n      <td>2</td>\n      <td>Jon Rahm</td>\n      <td>20</td>\n      <td>2.222</td>\n      <td>42.225</td>\n      <td>23.309</td>\n      <td>18.917</td>\n      <td>19</td>\n      <td>4</td>\n      <td>5</td>\n      <td>20</td>\n      <td>0.996</td>\n      <td>18.917</td>\n      <td>19</td>\n    </tr>\n    <tr>\n      <th>3</th>\n      <td>4</td>\n      <td>8</td>\n      <td>Bryson DeChambeau</td>\n      <td>26</td>\n      <td>1.960</td>\n      <td>50.952</td>\n      <td>37.036</td>\n      <td>13.918</td>\n      <td>26</td>\n      <td>T22</td>\n      <td>21</td>\n      <td>26</td>\n      <td>0.535</td>\n      <td>13.918</td>\n      <td>26</td>\n    </tr>\n    <tr>\n      <th>4</th>\n      <td>5</td>\n      <td>3</td>\n      <td>Justin Thomas</td>\n      <td>28</td>\n      <td>1.958</td>\n      <td>39.154</td>\n      <td>35.104</td>\n      <td>4.052</td>\n      <td>20</td>\n      <td>76</td>\n      <td>77</td>\n      <td>28</td>\n      <td>0.203</td>\n      <td>4.052</td>\n      <td>20</td>\n    </tr>\n  </tbody>\n</table>\n</div>",
      "text/plain": "  RANK THIS WEEKsg_total RANK LAST WEEKsg_total        PLAYER NAME  \\\n0                      1                    NaN     Tyrrell Hatton   \n1                      2                      1       Rory McIlroy   \n2                      3                      2           Jon Rahm   \n3                      4                      8  Bryson DeChambeau   \n4                      5                      3      Justin Thomas   \n\n   ROUNDSsg_total  AVERAGEsg_total  TOTAL SG:T  TOTAL SG:T2G  TOTAL SG:P  \\\n0              16            3.078      24.623        20.846       3.777   \n1              24            2.537      38.061        35.993       2.068   \n2              20            2.222      42.225        23.309      18.917   \n3              26            1.960      50.952        37.036      13.918   \n4              28            1.958      39.154        35.104       4.052   \n\n   MEASURED ROUNDSsg_total RANK THIS WEEKsg_putting RANK LAST WEEKsg_putting  \\\n0                        8                       32                      NaN   \n1                       15                       92                       72   \n2                       19                        4                        5   \n3                       26                      T22                       21   \n4                       20                       76                       77   \n\n   ROUNDSsg_putting  AVERAGEsg_putting  TOTAL SG:PUTTING  \\\n0                16              0.472             3.777   \n1                24              0.138             2.068   \n2                20              0.996            18.917   \n3                26              0.535            13.918   \n4                28              0.203             4.052   \n\n   MEASURED ROUNDSsg_putting  \n0                          8  \n1                         15  \n2                         19  \n3                         26  \n4                         20  "
     },
     "execution_count": 32,
     "metadata": {},
     "output_type": "execute_result"
    }
   ],
   "source": [
    "df3 = pd.merge(df1, df2, on=\"PLAYER NAME\", how='inner', suffixes=('sg_total', 'sg_putting'))\n",
    "df3.head()"
   ]
  },
  {
   "cell_type": "code",
   "execution_count": null,
   "metadata": {},
   "outputs": [],
   "source": []
  }
 ]
}