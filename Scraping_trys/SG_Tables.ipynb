{
 "nbformat": 4,
 "nbformat_minor": 2,
 "metadata": {
  "language_info": {
   "name": "python",
   "codemirror_mode": {
    "name": "ipython",
    "version": 3
   },
   "version": "3.7.4-final"
  },
  "orig_nbformat": 2,
  "file_extension": ".py",
  "mimetype": "text/x-python",
  "name": "python",
  "npconvert_exporter": "python",
  "pygments_lexer": "ipython3",
  "version": 3,
  "kernelspec": {
   "name": "python37464bitbaseconda445ec84078114cfa90d29e08c78872a3",
   "display_name": "Python 3.7.4 64-bit ('base': conda)"
  }
 },
 "cells": [
  {
   "cell_type": "code",
   "execution_count": 10,
   "metadata": {},
   "outputs": [],
   "source": [
    "import requests\n",
    "import lxml.html as lh\n",
    "import pandas as pd"
   ]
  },
  {
   "cell_type": "code",
   "execution_count": 11,
   "metadata": {},
   "outputs": [],
   "source": [
    "url='https://www.pgatour.com/stats/stat.02675.html'\n",
    "#Create a handle, page, to handle the contents of the website\n",
    "page = requests.get(url)\n",
    "#Store the contents of the website under doc\n",
    "doc = lh.fromstring(page.content)\n",
    "#Parse data that are stored between <tr>..</tr> of HTML\n",
    "tr_elements = doc.xpath('//tr')"
   ]
  },
  {
   "cell_type": "code",
   "execution_count": 12,
   "metadata": {},
   "outputs": [
    {
     "data": {
      "text/plain": "[3, 9, 9, 9, 9, 9, 9, 9, 9, 9, 9, 9]"
     },
     "execution_count": 12,
     "metadata": {},
     "output_type": "execute_result"
    }
   ],
   "source": [
    "#Check the length of the first 12 rows\n",
    "[len(T) for T in tr_elements[:12]]"
   ]
  },
  {
   "cell_type": "code",
   "execution_count": 26,
   "metadata": {},
   "outputs": [
    {
     "name": "stdout",
     "output_type": "stream",
     "text": "1:\"RANK THIS WEEK\"\n2:\"RANK LAST WEEK\"\n3:\"PLAYER NAME\"\n4:\"ROUNDS\"\n5:\"AVERAGE\"\n6:\"TOTAL SG:T\"\n7:\"TOTAL SG:T2G\"\n8:\"TOTAL SG:P\"\n9:\"MEASURED ROUNDS\"\n"
    }
   ],
   "source": [
    "#Create empty list\n",
    "col=[]\n",
    "i=0\n",
    "#For each row, store each first element (header) and an empty list\n",
    "for t in tr_elements[1]:\n",
    "    i+=1\n",
    "    name=t.text_content()\n",
    "    print('%d:\"%s\"'%(i,name))\n",
    "    col.append((name,[]))"
   ]
  },
  {
   "cell_type": "code",
   "execution_count": 27,
   "metadata": {},
   "outputs": [],
   "source": [
    "#Since out first row is the header, data is stored on the second row onwards\n",
    "for j in range(2,len(tr_elements)):\n",
    "    #T is our j'th row\n",
    "    T=tr_elements[j]\n",
    "    \n",
    "    #If row is not of size 10, the //tr data is not from our table \n",
    "    if len(T)!=9:\n",
    "        break\n",
    "    \n",
    "    #i is the index of our column\n",
    "    i=0\n",
    "    \n",
    "    #Iterate through each element of the row\n",
    "    for t in T.iterchildren():\n",
    "        data=t.text_content() \n",
    "        #Check if row is empty\n",
    "        if i>0:\n",
    "        #Convert any numerical value to integers\n",
    "            try:\n",
    "                data=int(data)\n",
    "            except:\n",
    "                pass\n",
    "        #Append the data to the empty list of the i'th column\n",
    "        col[i][1].append(data)\n",
    "        #Increment i for the next column\n",
    "        i+=1"
   ]
  },
  {
   "cell_type": "code",
   "execution_count": 28,
   "metadata": {},
   "outputs": [
    {
     "data": {
      "text/plain": "[231, 231, 231, 231, 231, 231, 231, 231, 231]"
     },
     "execution_count": 28,
     "metadata": {},
     "output_type": "execute_result"
    }
   ],
   "source": [
    "[len(C) for (title,C) in col]"
   ]
  },
  {
   "cell_type": "code",
   "execution_count": 29,
   "metadata": {},
   "outputs": [],
   "source": [
    "Dict={title:column for (title,column) in col}\n",
    "df=pd.DataFrame(Dict)"
   ]
  },
  {
   "cell_type": "code",
   "execution_count": 30,
   "metadata": {},
   "outputs": [
    {
     "data": {
      "text/html": "<div>\n<style scoped>\n    .dataframe tbody tr th:only-of-type {\n        vertical-align: middle;\n    }\n\n    .dataframe tbody tr th {\n        vertical-align: top;\n    }\n\n    .dataframe thead th {\n        text-align: right;\n    }\n</style>\n<table border=\"1\" class=\"dataframe\">\n  <thead>\n    <tr style=\"text-align: right;\">\n      <th></th>\n      <th>RANK THIS WEEK</th>\n      <th>RANK LAST WEEK</th>\n      <th>PLAYER NAME</th>\n      <th>ROUNDS</th>\n      <th>AVERAGE</th>\n      <th>TOTAL SG:T</th>\n      <th>TOTAL SG:T2G</th>\n      <th>TOTAL SG:P</th>\n      <th>MEASURED ROUNDS</th>\n    </tr>\n  </thead>\n  <tbody>\n    <tr>\n      <th>0</th>\n      <td>\\n        1</td>\n      <td>\\n</td>\n      <td>\\n    Tyrrell Hatton\\n</td>\n      <td>16</td>\n      <td>3.078</td>\n      <td>24.623</td>\n      <td>20.846</td>\n      <td>3.777</td>\n      <td>8</td>\n    </tr>\n    <tr>\n      <th>1</th>\n      <td>\\n        2</td>\n      <td>1</td>\n      <td>\\n    Rory McIlroy\\n</td>\n      <td>24</td>\n      <td>2.537</td>\n      <td>38.061</td>\n      <td>35.993</td>\n      <td>2.068</td>\n      <td>15</td>\n    </tr>\n    <tr>\n      <th>2</th>\n      <td>\\n        3</td>\n      <td>2</td>\n      <td>\\n    Jon Rahm\\n</td>\n      <td>20</td>\n      <td>2.222</td>\n      <td>42.225</td>\n      <td>23.309</td>\n      <td>18.917</td>\n      <td>19</td>\n    </tr>\n    <tr>\n      <th>3</th>\n      <td>\\n        4</td>\n      <td>8</td>\n      <td>\\n    Bryson DeChambeau\\n</td>\n      <td>26</td>\n      <td>1.960</td>\n      <td>50.952</td>\n      <td>37.036</td>\n      <td>13.918</td>\n      <td>26</td>\n    </tr>\n    <tr>\n      <th>4</th>\n      <td>\\n        5</td>\n      <td>3</td>\n      <td>\\n    Justin Thomas\\n</td>\n      <td>28</td>\n      <td>1.958</td>\n      <td>39.154</td>\n      <td>35.104</td>\n      <td>4.052</td>\n      <td>20</td>\n    </tr>\n    <tr>\n      <th>...</th>\n      <td>...</td>\n      <td>...</td>\n      <td>...</td>\n      <td>...</td>\n      <td>...</td>\n      <td>...</td>\n      <td>...</td>\n      <td>...</td>\n      <td>...</td>\n    </tr>\n    <tr>\n      <th>226</th>\n      <td>\\n        227</td>\n      <td>224</td>\n      <td>\\n    Martin Trainer\\n</td>\n      <td>34</td>\n      <td>-2.736</td>\n      <td>-73.881</td>\n      <td>-68.004</td>\n      <td>-5.876</td>\n      <td>27</td>\n    </tr>\n    <tr>\n      <th>227</th>\n      <td>\\n        228</td>\n      <td>225</td>\n      <td>\\n    Satoshi Kodaira\\n</td>\n      <td>31</td>\n      <td>-2.785</td>\n      <td>-47.339</td>\n      <td>-30.435</td>\n      <td>-16.902</td>\n      <td>17</td>\n    </tr>\n    <tr>\n      <th>228</th>\n      <td>\\n        229</td>\n      <td>226</td>\n      <td>\\n    Michael Kim\\n</td>\n      <td>14</td>\n      <td>-3.058</td>\n      <td>-24.467</td>\n      <td>-20.716</td>\n      <td>-3.750</td>\n      <td>8</td>\n    </tr>\n    <tr>\n      <th>229</th>\n      <td>\\n        230</td>\n      <td>227</td>\n      <td>\\n    Ryo Ishikawa\\n</td>\n      <td>14</td>\n      <td>-3.810</td>\n      <td>-22.860</td>\n      <td>-11.850</td>\n      <td>-11.010</td>\n      <td>6</td>\n    </tr>\n    <tr>\n      <th>230</th>\n      <td>\\n        231</td>\n      <td>228</td>\n      <td>\\n    Kevin Stadler\\n</td>\n      <td>20</td>\n      <td>-4.709</td>\n      <td>-51.803</td>\n      <td>-34.656</td>\n      <td>-17.147</td>\n      <td>11</td>\n    </tr>\n  </tbody>\n</table>\n<p>231 rows × 9 columns</p>\n</div>",
      "text/plain": "    RANK THIS WEEK RANK LAST WEEK                        PLAYER NAME  ROUNDS  \\\n0      \\n        1     \\n             \\n    Tyrrell Hatton\\n              16   \n1      \\n        2              1       \\n    Rory McIlroy\\n              24   \n2      \\n        3              2           \\n    Jon Rahm\\n              20   \n3      \\n        4              8  \\n    Bryson DeChambeau\\n              26   \n4      \\n        5              3      \\n    Justin Thomas\\n              28   \n..             ...            ...                                ...     ...   \n226  \\n        227            224     \\n    Martin Trainer\\n              34   \n227  \\n        228            225    \\n    Satoshi Kodaira\\n              31   \n228  \\n        229            226        \\n    Michael Kim\\n              14   \n229  \\n        230            227       \\n    Ryo Ishikawa\\n              14   \n230  \\n        231            228      \\n    Kevin Stadler\\n              20   \n\n    AVERAGE TOTAL SG:T TOTAL SG:T2G TOTAL SG:P  MEASURED ROUNDS  \n0     3.078     24.623       20.846      3.777                8  \n1     2.537     38.061       35.993      2.068               15  \n2     2.222     42.225       23.309     18.917               19  \n3     1.960     50.952       37.036     13.918               26  \n4     1.958     39.154       35.104      4.052               20  \n..      ...        ...          ...        ...              ...  \n226  -2.736    -73.881      -68.004     -5.876               27  \n227  -2.785    -47.339      -30.435    -16.902               17  \n228  -3.058    -24.467      -20.716     -3.750                8  \n229  -3.810    -22.860      -11.850    -11.010                6  \n230  -4.709    -51.803      -34.656    -17.147               11  \n\n[231 rows x 9 columns]"
     },
     "execution_count": 30,
     "metadata": {},
     "output_type": "execute_result"
    }
   ],
   "source": [
    "df"
   ]
  },
  {
   "cell_type": "code",
   "execution_count": 31,
   "metadata": {},
   "outputs": [
    {
     "name": "stdout",
     "output_type": "stream",
     "text": "RANK THIS WEEK RANK LAST WEEK                        PLAYER NAME  ROUNDS  \\\n0      \\n        1     \\n             \\n    Tyrrell Hatton\\n              16   \n1      \\n        2              1       \\n    Rory McIlroy\\n              24   \n2      \\n        3              2           \\n    Jon Rahm\\n              20   \n3      \\n        4              8  \\n    Bryson DeChambeau\\n              26   \n4      \\n        5              3      \\n    Justin Thomas\\n              28   \n..             ...            ...                                ...     ...   \n226  \\n        227            224     \\n    Martin Trainer\\n              34   \n227  \\n        228            225    \\n    Satoshi Kodaira\\n              31   \n228  \\n        229            226        \\n    Michael Kim\\n              14   \n229  \\n        230            227       \\n    Ryo Ishikawa\\n              14   \n230  \\n        231            228      \\n    Kevin Stadler\\n              20   \n\n    AVERAGE TOTAL SG:T TOTAL SG:T2G TOTAL SG:P  MEASURED ROUNDS  \n0     3.078     24.623       20.846      3.777                8  \n1     2.537     38.061       35.993      2.068               15  \n2     2.222     42.225       23.309     18.917               19  \n3     1.960     50.952       37.036     13.918               26  \n4     1.958     39.154       35.104      4.052               20  \n..      ...        ...          ...        ...              ...  \n226  -2.736    -73.881      -68.004     -5.876               27  \n227  -2.785    -47.339      -30.435    -16.902               17  \n228  -3.058    -24.467      -20.716     -3.750                8  \n229  -3.810    -22.860      -11.850    -11.010                6  \n230  -4.709    -51.803      -34.656    -17.147               11  \n\n[231 rows x 9 columns] \n Success\n"
    }
   ],
   "source": [
    "df.to_csv('SG-Total.csv', index = False)\n",
    "print(df,\"\\n Success\")"
   ]
  },
  {
   "cell_type": "code",
   "execution_count": null,
   "metadata": {},
   "outputs": [],
   "source": []
  }
 ]
}