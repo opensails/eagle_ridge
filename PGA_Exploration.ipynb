{
 "nbformat": 4,
 "nbformat_minor": 2,
 "metadata": {
  "language_info": {
   "name": "python",
   "codemirror_mode": {
    "name": "ipython",
    "version": 3
   },
   "version": "3.7.4-final"
  },
  "orig_nbformat": 2,
  "file_extension": ".py",
  "mimetype": "text/x-python",
  "name": "python",
  "npconvert_exporter": "python",
  "pygments_lexer": "ipython3",
  "version": 3,
  "kernelspec": {
   "name": "python37464bitbaseconda445ec84078114cfa90d29e08c78872a3",
   "display_name": "Python 3.7.4 64-bit ('base': conda)"
  }
 },
 "cells": [
  {
   "cell_type": "code",
   "execution_count": 2,
   "metadata": {},
   "outputs": [],
   "source": [
    "\n",
    "import matplotlib.pyplot as plt\n",
    "import numpy as np\n",
    "import pandas as pd\n",
    "import sklearn.linear_model"
   ]
  },
  {
   "cell_type": "code",
   "execution_count": 3,
   "metadata": {},
   "outputs": [],
   "source": [
    "data = pd.read_csv('stats_list.csv')"
   ]
  },
  {
   "cell_type": "code",
   "execution_count": 4,
   "metadata": {},
   "outputs": [
    {
     "data": {
      "text/html": "<div>\n<style scoped>\n    .dataframe tbody tr th:only-of-type {\n        vertical-align: middle;\n    }\n\n    .dataframe tbody tr th {\n        vertical-align: top;\n    }\n\n    .dataframe thead th {\n        text-align: right;\n    }\n</style>\n<table border=\"1\" class=\"dataframe\">\n  <thead>\n    <tr style=\"text-align: right;\">\n      <th></th>\n      <th>RANK THIS WEEK_x</th>\n      <th>RANK LAST WEEK_x</th>\n      <th>PLAYER NAME</th>\n      <th>ROUNDS_x</th>\n      <th>%_x</th>\n      <th>GREENS HIT_x</th>\n      <th># HOLES</th>\n      <th>RELATIVE/PAR</th>\n      <th>RANK THIS WEEK_y</th>\n      <th>RANK LAST WEEK_y</th>\n      <th>...</th>\n      <th>EVENTS_x</th>\n      <th>RATING_x</th>\n      <th>RANK THIS WEEK_y.16</th>\n      <th>RANK LAST WEEK_y.16</th>\n      <th>EVENTS_y</th>\n      <th>RATING_y</th>\n      <th>RANK THIS WEEK</th>\n      <th>RANK LAST WEEK</th>\n      <th>EVENTS</th>\n      <th>RATING</th>\n    </tr>\n  </thead>\n  <tbody>\n    <tr>\n      <th>0</th>\n      <td>1</td>\n      <td>1</td>\n      <td>Jim Furyk</td>\n      <td>19.0</td>\n      <td>76.32</td>\n      <td>261.0</td>\n      <td>342.0</td>\n      <td>-0.24</td>\n      <td>T139</td>\n      <td>T138</td>\n      <td>...</td>\n      <td>3.0</td>\n      <td>8.4</td>\n      <td>199.0</td>\n      <td>197.0</td>\n      <td>3.0</td>\n      <td>5.6</td>\n      <td>T254</td>\n      <td>T251</td>\n      <td>3.0</td>\n      <td>3.2</td>\n    </tr>\n    <tr>\n      <th>1</th>\n      <td>T2</td>\n      <td>T3</td>\n      <td>Boo Weekley</td>\n      <td>14.0</td>\n      <td>75.00</td>\n      <td>189.0</td>\n      <td>252.0</td>\n      <td>-0.24</td>\n      <td>5</td>\n      <td>6</td>\n      <td>...</td>\n      <td>1.0</td>\n      <td>8.7</td>\n      <td>21.0</td>\n      <td>19.0</td>\n      <td>1.0</td>\n      <td>7.5</td>\n      <td>T243</td>\n      <td>T242</td>\n      <td>1.0</td>\n      <td>3.7</td>\n    </tr>\n    <tr>\n      <th>2</th>\n      <td>T2</td>\n      <td>T3</td>\n      <td>Patrick Cantlay</td>\n      <td>20.0</td>\n      <td>75.00</td>\n      <td>270.0</td>\n      <td>360.0</td>\n      <td>-0.32</td>\n      <td>118</td>\n      <td>T115</td>\n      <td>...</td>\n      <td>5.0</td>\n      <td>7.5</td>\n      <td>106.0</td>\n      <td>108.0</td>\n      <td>5.0</td>\n      <td>6.5</td>\n      <td>T40</td>\n      <td>T40</td>\n      <td>5.0</td>\n      <td>8.2</td>\n    </tr>\n    <tr>\n      <th>3</th>\n      <td>4</td>\n      <td>5</td>\n      <td>Corey Conners</td>\n      <td>40.0</td>\n      <td>74.03</td>\n      <td>533.0</td>\n      <td>720.0</td>\n      <td>-0.25</td>\n      <td>184</td>\n      <td>182</td>\n      <td>...</td>\n      <td>5.0</td>\n      <td>7.2</td>\n      <td>227.0</td>\n      <td>220.0</td>\n      <td>3.0</td>\n      <td>5.3</td>\n      <td>T89</td>\n      <td>T92</td>\n      <td>5.0</td>\n      <td>7.1</td>\n    </tr>\n    <tr>\n      <th>4</th>\n      <td>5</td>\n      <td>2</td>\n      <td>Harris English</td>\n      <td>42.0</td>\n      <td>73.02</td>\n      <td>552.0</td>\n      <td>756.0</td>\n      <td>-0.28</td>\n      <td>163</td>\n      <td>T165</td>\n      <td>...</td>\n      <td>9.0</td>\n      <td>6.8</td>\n      <td>151.0</td>\n      <td>179.0</td>\n      <td>8.0</td>\n      <td>6.1</td>\n      <td>T104</td>\n      <td>T95</td>\n      <td>9.0</td>\n      <td>6.8</td>\n    </tr>\n  </tbody>\n</table>\n<p>5 rows × 216 columns</p>\n</div>",
      "text/plain": "  RANK THIS WEEK_x RANK LAST WEEK_x      PLAYER NAME  ROUNDS_x    %_x  \\\n0                1                1        Jim Furyk      19.0  76.32   \n1               T2               T3      Boo Weekley      14.0  75.00   \n2               T2               T3  Patrick Cantlay      20.0  75.00   \n3                4                5    Corey Conners      40.0  74.03   \n4                5                2   Harris English      42.0  73.02   \n\n   GREENS HIT_x  # HOLES  RELATIVE/PAR RANK THIS WEEK_y RANK LAST WEEK_y  ...  \\\n0         261.0    342.0         -0.24             T139             T138  ...   \n1         189.0    252.0         -0.24                5                6  ...   \n2         270.0    360.0         -0.32              118             T115  ...   \n3         533.0    720.0         -0.25              184              182  ...   \n4         552.0    756.0         -0.28              163             T165  ...   \n\n   EVENTS_x  RATING_x  RANK THIS WEEK_y.16  RANK LAST WEEK_y.16  EVENTS_y  \\\n0       3.0       8.4                199.0                197.0       3.0   \n1       1.0       8.7                 21.0                 19.0       1.0   \n2       5.0       7.5                106.0                108.0       5.0   \n3       5.0       7.2                227.0                220.0       3.0   \n4       9.0       6.8                151.0                179.0       8.0   \n\n  RATING_y RANK THIS WEEK RANK LAST WEEK  EVENTS  RATING  \n0      5.6           T254           T251     3.0     3.2  \n1      7.5           T243           T242     1.0     3.7  \n2      6.5            T40            T40     5.0     8.2  \n3      5.3            T89            T92     5.0     7.1  \n4      6.1           T104            T95     9.0     6.8  \n\n[5 rows x 216 columns]"
     },
     "execution_count": 4,
     "metadata": {},
     "output_type": "execute_result"
    }
   ],
   "source": [
    "data.head()"
   ]
  },
  {
   "cell_type": "code",
   "execution_count": null,
   "metadata": {},
   "outputs": [],
   "source": []
  }
 ]
}