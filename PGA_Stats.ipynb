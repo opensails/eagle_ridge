{
 "nbformat": 4,
 "nbformat_minor": 2,
 "metadata": {
  "language_info": {
   "name": "python",
   "codemirror_mode": {
    "name": "ipython",
    "version": 3
   },
   "version": "3.7.4-final"
  },
  "orig_nbformat": 2,
  "file_extension": ".py",
  "mimetype": "text/x-python",
  "name": "python",
  "npconvert_exporter": "python",
  "pygments_lexer": "ipython3",
  "version": 3,
  "kernelspec": {
   "name": "python37464bitbaseconda445ec84078114cfa90d29e08c78872a3",
   "display_name": "Python 3.7.4 64-bit ('base': conda)"
  }
 },
 "cells": [
  {
   "cell_type": "markdown",
   "metadata": {},
   "source": [
    "# Loop Through each stats page of pgatour.com"
   ]
  },
  {
   "cell_type": "markdown",
   "metadata": {},
   "source": [
    "format for base #https://www.pgatour.com/stats/(stat.(sum-number)# \n",
    "\n",
    "ex.) https://www.pgatour.com/stats/stat.159.html - Driving Distance\n",
    "     https://www.pgatour.com/stats/stat.102.html - Driving Accuracy\n",
    "     also\n",
    "     https://www.pgatour.com/stats/stat.02428.html - Putting Total\n",
    "     "
   ]
  },
  {
   "cell_type": "code",
   "execution_count": 1,
   "metadata": {},
   "outputs": [],
   "source": [
    "import requests\n",
    "from bs4 import BeautifulSoup\n",
    "import pandas as pd\n",
    "from functools import reduce, partial"
   ]
  },
  {
   "cell_type": "code",
   "execution_count": 8,
   "metadata": {},
   "outputs": [],
   "source": [
    "#Stat page suffixis from PGATOUR.com to pick which data we want to scrape\n",
    "stats1 = [\"103\",\n",
    "\"02357\",\n",
    "\"02437\",\n",
    "\"02568\",\n",
    "\"02569\",\n",
    "\"374\",\n",
    "\"375\",\n",
    "\"376\",\n",
    "\"377\",\n",
    "\"101\",\n",
    "\"102\",\n",
    "\"213\",\n",
    "\"317\",\n",
    "\"459\",\n",
    "\"460\",\n",
    "\"01008\",\n",
    "\"02435\",\n",
    "\"02567\",\n",
    "\"104\",\n",
    "\"119\",\n",
    "\"402\",\n",
    "\"413\",\n",
    "\"02564\",\n",
    "\"297\",\n",
    "\"298\",\n",
    "\"122\",\n",
    "\"483\",\n",
    "\"02333\",\n",
    "\"02334\",\n",
    "\"02335\",\n",
    "\"111\",\n",
    "\"130\",\n",
    "\"086\",\n",
    "\"087\",\n",
    "\"085\"]\n",
    "base_url = \"https://www.pgatour.com/stats/\"\n",
    "stats_list = []\n",
    "d = {}"
   ]
  },
  {
   "cell_type": "code",
   "execution_count": 13,
   "metadata": {},
   "outputs": [],
   "source": [
    "#Use dictionaries to create individual data tables for each page\n",
    "d = {}\n"
   ]
  },
  {
   "cell_type": "code",
   "execution_count": 14,
   "metadata": {},
   "outputs": [
    {
     "name": "stdout",
     "output_type": "stream",
     "text": "https://www.pgatour.com/stats/stat.103.html\nhttps://www.pgatour.com/stats/stat.02357.html\nhttps://www.pgatour.com/stats/stat.02437.html\nhttps://www.pgatour.com/stats/stat.02568.html\nhttps://www.pgatour.com/stats/stat.02569.html\nhttps://www.pgatour.com/stats/stat.374.html\nhttps://www.pgatour.com/stats/stat.375.html\nhttps://www.pgatour.com/stats/stat.376.html\nhttps://www.pgatour.com/stats/stat.377.html\nhttps://www.pgatour.com/stats/stat.101.html\nhttps://www.pgatour.com/stats/stat.102.html\nhttps://www.pgatour.com/stats/stat.213.html\nhttps://www.pgatour.com/stats/stat.317.html\nhttps://www.pgatour.com/stats/stat.459.html\nhttps://www.pgatour.com/stats/stat.460.html\nhttps://www.pgatour.com/stats/stat.01008.html\nhttps://www.pgatour.com/stats/stat.02435.html\nhttps://www.pgatour.com/stats/stat.02567.html\nhttps://www.pgatour.com/stats/stat.104.html\nhttps://www.pgatour.com/stats/stat.119.html\nhttps://www.pgatour.com/stats/stat.402.html\nhttps://www.pgatour.com/stats/stat.413.html\nhttps://www.pgatour.com/stats/stat.02564.html\nhttps://www.pgatour.com/stats/stat.297.html\nhttps://www.pgatour.com/stats/stat.298.html\nhttps://www.pgatour.com/stats/stat.122.html\nhttps://www.pgatour.com/stats/stat.483.html\nhttps://www.pgatour.com/stats/stat.02333.html\nhttps://www.pgatour.com/stats/stat.02334.html\nhttps://www.pgatour.com/stats/stat.02335.html\nhttps://www.pgatour.com/stats/stat.111.html\nhttps://www.pgatour.com/stats/stat.130.html\nhttps://www.pgatour.com/stats/stat.086.html\nhttps://www.pgatour.com/stats/stat.087.html\nhttps://www.pgatour.com/stats/stat.085.html\n"
    }
   ],
   "source": [
    "#scapes each stats page based on which pages are specified\n",
    "for pages in stats1:\n",
    "    print(base_url+\"stat.\"+str(pages)+\".html\")\n",
    "    d[pages] = pd.read_html(base_url+\"stat.\"+str(pages)+\".html\", header=0)[1]\n",
    "    \n",
    "my_reduce = partial(pd.merge, on='PLAYER NAME', how='outer')\n",
    "data = reduce(my_reduce, d.values())"
   ]
  },
  {
   "cell_type": "code",
   "execution_count": 15,
   "metadata": {},
   "outputs": [
    {
     "name": "stdout",
     "output_type": "stream",
     "text": "RANK THIS WEEK_x RANK LAST WEEK_x      PLAYER NAME  ROUNDS_x    %_x  \\\n0                  1                1        Jim Furyk      19.0  76.32   \n1                 T2               T3      Boo Weekley      14.0  75.00   \n2                 T2               T3  Patrick Cantlay      20.0  75.00   \n3                  4                5    Corey Conners      40.0  74.03   \n4                  5                2   Harris English      42.0  73.02   \n..               ...              ...              ...       ...    ...   \n484              NaN              NaN     Mac McLendon       NaN    NaN   \n485              NaN              NaN      Jack Newton       NaN    NaN   \n486              NaN              NaN      Craig Parry       NaN    NaN   \n487              NaN              NaN   John Schroeder       NaN    NaN   \n488              NaN              NaN     Minchel Choi       NaN    NaN   \n\n     GREENS HIT_x  # HOLES  RELATIVE/PAR  RANK THIS WEEK_y  RANK LAST WEEK_y  \\\n0           261.0    342.0         -0.24              T139              T138   \n1           189.0    252.0         -0.24                 5                 6   \n2           270.0    360.0         -0.32               118              T115   \n3           533.0    720.0         -0.25               184               182   \n4           552.0    756.0         -0.28               163              T165   \n..            ...      ...           ...               ...               ...   \n484           NaN      NaN           NaN               NaN               NaN   \n485           NaN      NaN           NaN               NaN               NaN   \n486           NaN      NaN           NaN               NaN               NaN   \n487           NaN      NaN           NaN               NaN               NaN   \n488           NaN      NaN           NaN               NaN               NaN   \n\n     ...  EVENTS_x  RATING_x  RANK THIS WEEK_y  RANK LAST WEEK_y  EVENTS_y  \\\n0    ...       3.0       8.4             199.0             197.0       3.0   \n1    ...       1.0       8.7              21.0              19.0       1.0   \n2    ...       5.0       7.5             106.0             108.0       5.0   \n3    ...       5.0       7.2             227.0             220.0       3.0   \n4    ...       9.0       6.8             151.0             179.0       8.0   \n..   ...       ...       ...               ...               ...       ...   \n484  ...       NaN       NaN               NaN               NaN       NaN   \n485  ...       NaN       NaN               NaN               NaN       NaN   \n486  ...       NaN       NaN               NaN               NaN       NaN   \n487  ...       NaN       NaN               NaN               NaN       NaN   \n488  ...       NaN       NaN               NaN               NaN       NaN   \n\n    RATING_y RANK THIS WEEK RANK LAST WEEK  EVENTS  RATING  \n0        5.6           T254           T251     3.0     3.2  \n1        7.5           T243           T242     1.0     3.7  \n2        6.5            T40            T40     5.0     8.2  \n3        5.3            T89            T92     5.0     7.1  \n4        6.1           T104            T95     9.0     6.8  \n..       ...            ...            ...     ...     ...  \n484      NaN            NaN            NaN     NaN     NaN  \n485      NaN            NaN            NaN     NaN     NaN  \n486      NaN            NaN            NaN     NaN     NaN  \n487      NaN            NaN            NaN     NaN     NaN  \n488      NaN            NaN            NaN     NaN     NaN  \n\n[489 rows x 216 columns] \n Success\n"
    }
   ],
   "source": [
    "data.to_csv('stats_list.csv', index = False)\n",
    "print(data,\"\\n Success\")"
   ]
  },
  {
   "cell_type": "code",
   "execution_count": 16,
   "metadata": {},
   "outputs": [
    {
     "data": {
      "text/html": "<div>\n<style scoped>\n    .dataframe tbody tr th:only-of-type {\n        vertical-align: middle;\n    }\n\n    .dataframe tbody tr th {\n        vertical-align: top;\n    }\n\n    .dataframe thead th {\n        text-align: right;\n    }\n</style>\n<table border=\"1\" class=\"dataframe\">\n  <thead>\n    <tr style=\"text-align: right;\">\n      <th></th>\n      <th>RANK THIS WEEK_x</th>\n      <th>RANK LAST WEEK_x</th>\n      <th>PLAYER NAME</th>\n      <th>ROUNDS_x</th>\n      <th>%_x</th>\n      <th>GREENS HIT_x</th>\n      <th># HOLES</th>\n      <th>RELATIVE/PAR</th>\n      <th>RANK THIS WEEK_y</th>\n      <th>RANK LAST WEEK_y</th>\n      <th>...</th>\n      <th>EVENTS_x</th>\n      <th>RATING_x</th>\n      <th>RANK THIS WEEK_y</th>\n      <th>RANK LAST WEEK_y</th>\n      <th>EVENTS_y</th>\n      <th>RATING_y</th>\n      <th>RANK THIS WEEK</th>\n      <th>RANK LAST WEEK</th>\n      <th>EVENTS</th>\n      <th>RATING</th>\n    </tr>\n  </thead>\n  <tbody>\n    <tr>\n      <th>0</th>\n      <td>1</td>\n      <td>1</td>\n      <td>Jim Furyk</td>\n      <td>19.0</td>\n      <td>76.32</td>\n      <td>261.0</td>\n      <td>342.0</td>\n      <td>-0.24</td>\n      <td>T139</td>\n      <td>T138</td>\n      <td>...</td>\n      <td>3.0</td>\n      <td>8.4</td>\n      <td>199.0</td>\n      <td>197.0</td>\n      <td>3.0</td>\n      <td>5.6</td>\n      <td>T254</td>\n      <td>T251</td>\n      <td>3.0</td>\n      <td>3.2</td>\n    </tr>\n    <tr>\n      <th>1</th>\n      <td>T2</td>\n      <td>T3</td>\n      <td>Boo Weekley</td>\n      <td>14.0</td>\n      <td>75.00</td>\n      <td>189.0</td>\n      <td>252.0</td>\n      <td>-0.24</td>\n      <td>5</td>\n      <td>6</td>\n      <td>...</td>\n      <td>1.0</td>\n      <td>8.7</td>\n      <td>21.0</td>\n      <td>19.0</td>\n      <td>1.0</td>\n      <td>7.5</td>\n      <td>T243</td>\n      <td>T242</td>\n      <td>1.0</td>\n      <td>3.7</td>\n    </tr>\n    <tr>\n      <th>2</th>\n      <td>T2</td>\n      <td>T3</td>\n      <td>Patrick Cantlay</td>\n      <td>20.0</td>\n      <td>75.00</td>\n      <td>270.0</td>\n      <td>360.0</td>\n      <td>-0.32</td>\n      <td>118</td>\n      <td>T115</td>\n      <td>...</td>\n      <td>5.0</td>\n      <td>7.5</td>\n      <td>106.0</td>\n      <td>108.0</td>\n      <td>5.0</td>\n      <td>6.5</td>\n      <td>T40</td>\n      <td>T40</td>\n      <td>5.0</td>\n      <td>8.2</td>\n    </tr>\n    <tr>\n      <th>3</th>\n      <td>4</td>\n      <td>5</td>\n      <td>Corey Conners</td>\n      <td>40.0</td>\n      <td>74.03</td>\n      <td>533.0</td>\n      <td>720.0</td>\n      <td>-0.25</td>\n      <td>184</td>\n      <td>182</td>\n      <td>...</td>\n      <td>5.0</td>\n      <td>7.2</td>\n      <td>227.0</td>\n      <td>220.0</td>\n      <td>3.0</td>\n      <td>5.3</td>\n      <td>T89</td>\n      <td>T92</td>\n      <td>5.0</td>\n      <td>7.1</td>\n    </tr>\n    <tr>\n      <th>4</th>\n      <td>5</td>\n      <td>2</td>\n      <td>Harris English</td>\n      <td>42.0</td>\n      <td>73.02</td>\n      <td>552.0</td>\n      <td>756.0</td>\n      <td>-0.28</td>\n      <td>163</td>\n      <td>T165</td>\n      <td>...</td>\n      <td>9.0</td>\n      <td>6.8</td>\n      <td>151.0</td>\n      <td>179.0</td>\n      <td>8.0</td>\n      <td>6.1</td>\n      <td>T104</td>\n      <td>T95</td>\n      <td>9.0</td>\n      <td>6.8</td>\n    </tr>\n  </tbody>\n</table>\n<p>5 rows × 216 columns</p>\n</div>",
      "text/plain": "  RANK THIS WEEK_x RANK LAST WEEK_x      PLAYER NAME  ROUNDS_x    %_x  \\\n0                1                1        Jim Furyk      19.0  76.32   \n1               T2               T3      Boo Weekley      14.0  75.00   \n2               T2               T3  Patrick Cantlay      20.0  75.00   \n3                4                5    Corey Conners      40.0  74.03   \n4                5                2   Harris English      42.0  73.02   \n\n   GREENS HIT_x  # HOLES  RELATIVE/PAR  RANK THIS WEEK_y  RANK LAST WEEK_y  \\\n0         261.0    342.0         -0.24              T139              T138   \n1         189.0    252.0         -0.24                 5                 6   \n2         270.0    360.0         -0.32               118              T115   \n3         533.0    720.0         -0.25               184               182   \n4         552.0    756.0         -0.28               163              T165   \n\n   ...  EVENTS_x  RATING_x  RANK THIS WEEK_y  RANK LAST WEEK_y  EVENTS_y  \\\n0  ...       3.0       8.4             199.0             197.0       3.0   \n1  ...       1.0       8.7              21.0              19.0       1.0   \n2  ...       5.0       7.5             106.0             108.0       5.0   \n3  ...       5.0       7.2             227.0             220.0       3.0   \n4  ...       9.0       6.8             151.0             179.0       8.0   \n\n  RATING_y RANK THIS WEEK RANK LAST WEEK  EVENTS  RATING  \n0      5.6           T254           T251     3.0     3.2  \n1      7.5           T243           T242     1.0     3.7  \n2      6.5            T40            T40     5.0     8.2  \n3      5.3            T89            T92     5.0     7.1  \n4      6.1           T104            T95     9.0     6.8  \n\n[5 rows x 216 columns]"
     },
     "execution_count": 16,
     "metadata": {},
     "output_type": "execute_result"
    }
   ],
   "source": [
    "data.head()"
   ]
  },
  {
   "cell_type": "code",
   "execution_count": null,
   "metadata": {},
   "outputs": [],
   "source": []
  }
 ]
}