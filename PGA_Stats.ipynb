{
 "nbformat": 4,
 "nbformat_minor": 2,
 "metadata": {
  "language_info": {
   "name": "python",
   "codemirror_mode": {
    "name": "ipython",
    "version": 3
   },
   "version": "3.7.4-final"
  },
  "orig_nbformat": 2,
  "file_extension": ".py",
  "mimetype": "text/x-python",
  "name": "python",
  "npconvert_exporter": "python",
  "pygments_lexer": "ipython3",
  "version": 3,
  "kernelspec": {
   "name": "python37464bitbaseconda445ec84078114cfa90d29e08c78872a3",
   "display_name": "Python 3.7.4 64-bit ('base': conda)"
  }
 },
 "cells": [
  {
   "cell_type": "markdown",
   "metadata": {},
   "source": [
    "# Loop Through each stats page of pgatour.com"
   ]
  },
  {
   "cell_type": "markdown",
   "metadata": {},
   "source": [
    "format for base #https://www.pgatour.com/stats/(stat.(sum-number)# \n",
    "\n",
    "ex.) https://www.pgatour.com/stats/stat.159.html - Driving Distance\n",
    "     https://www.pgatour.com/stats/stat.102.html - Driving Accuracy\n",
    "     also\n",
    "     https://www.pgatour.com/stats/stat.02428.html - Putting Total\n",
    "     "
   ]
  },
  {
   "cell_type": "code",
   "execution_count": 1,
   "metadata": {},
   "outputs": [],
   "source": [
    "import requests\n",
    "from bs4 import BeautifulSoup\n",
    "import pandas as pd\n",
    "from functools import reduce, partial"
   ]
  },
  {
   "cell_type": "code",
   "execution_count": 7,
   "metadata": {},
   "outputs": [],
   "source": [
    "#Stat page suffixis from PGATOUR.com to pick which data we want to scrape\n",
    "stats1 = [101,\n",
    "102,\n",
    "103,\n",
    "104,\n",
    "119]\n",
    "base_url = \"https://www.pgatour.com/stats/\"\n",
    "stats_list = []\n",
    "d = {}"
   ]
  },
  {
   "cell_type": "code",
   "execution_count": 5,
   "metadata": {},
   "outputs": [],
   "source": [
    "#Use dictionaries to create individual data tables for each page\n",
    "d = {}\n"
   ]
  },
  {
   "cell_type": "code",
   "execution_count": 8,
   "metadata": {},
   "outputs": [
    {
     "name": "stdout",
     "output_type": "stream",
     "text": "https://www.pgatour.com/stats/stat.101.html\nhttps://www.pgatour.com/stats/stat.102.html\nhttps://www.pgatour.com/stats/stat.103.html\nhttps://www.pgatour.com/stats/stat.104.html\nhttps://www.pgatour.com/stats/stat.119.html\n"
    }
   ],
   "source": [
    "#scapes each stats page based on which pages are specified\n",
    "for pages in stats1:\n",
    "    print(base_url+\"stat.\"+str(pages)+\".html\")\n",
    "    d[pages] = pd.read_html(base_url+\"stat.\"+str(pages)+\".html\", header=0)[1]\n",
    "    \n",
    "my_reduce = partial(pd.merge, on='PLAYER NAME', how='outer')\n",
    "data = reduce(my_reduce, d.values())"
   ]
  },
  {
   "cell_type": "code",
   "execution_count": 10,
   "metadata": {},
   "outputs": [
    {
     "name": "stdout",
     "output_type": "stream",
     "text": "RANK THIS WEEK_x RANK LAST WEEK_x        PLAYER NAME  ROUNDS_x   AVG.  \\\n0                  1                4  Bryson DeChambeau        26  321.3   \n1                  2                3       Rory McIlroy        24  320.2   \n2                  3                5      Cameron Champ        38  319.8   \n3                  4                6       Bubba Watson        30  318.6   \n4                  5                8      Sergio Garcia        20  316.6   \n..               ...              ...                ...       ...    ...   \n226              227              225          Zac Blair        48  279.5   \n227              228              NaN     Steve Stricker        16  279.4   \n228              229              226        Luke Donald        18  278.1   \n229              230              227    Satoshi Kodaira        31  276.8   \n230              231              228    David Lingmerth        19  275.4   \n\n     TOTAL DISTANCE  TOTAL DRIVES RANK THIS WEEK_y RANK LAST WEEK_y  ROUNDS_y  \\\n0             16706            52             T122              119        26   \n1             10245            32              180              172        24   \n2             24305            76              159              152        38   \n3             14018            44              178              186        30   \n4              5065            16              105              107        20   \n..              ...           ...              ...              ...       ...   \n226           26833            96               89               88        48   \n227            8941            32               63              NaN        16   \n228           10013            36             T146             T153        18   \n229           14946            54               20               23        31   \n230           10467            38               23               27        19   \n\n     ...  GREENS HIT_y  BIRDIE CONVERSION  GIR RANK RANK THIS WEEK  \\\n0    ...           323              34.16       NaN             48   \n1    ...           307              34.97       NaN            T37   \n2    ...           472              35.03       NaN           T155   \n3    ...           355              29.46       NaN           T106   \n4    ...           241              29.05       NaN           T185   \n..   ...           ...                ...       ...            ...   \n226  ...           540              32.28       NaN             15   \n227  ...           151              26.67       NaN              1   \n228  ...           205              31.71       NaN             33   \n229  ...           342              20.82       NaN            215   \n230  ...           238              26.89       NaN            191   \n\n    RANK LAST WEEK  ROUNDS  AVG_y  TOTAL PUTTS  TOTAL ROUNDS  LOW TOTAL PUTTS  \n0              T56      26  28.58          743            26               25  \n1               23      24  28.50          684            24               25  \n2             T146      38  29.37         1116            38               24  \n3              112      30  28.97          869            30               21  \n4             T178      20  29.60          592            20               27  \n..             ...     ...    ...          ...           ...              ...  \n226            T28      48  28.23         1355            48               20  \n227            NaN      16  27.56          441            16               22  \n228            T34      18  28.44          512            18               25  \n229            211      31  30.06          932            31               25  \n230            185      19  29.68          564            19               24  \n\n[231 rows x 35 columns] \n Success\n"
    }
   ],
   "source": [
    "data.to_csv('stats_list.csv', index = False)\n",
    "print(data,\"\\n Success\")"
   ]
  },
  {
   "cell_type": "markdown",
   "metadata": {},
   "source": [
    "**Not used Code**\n",
    "\n",
    "`One way to bring in player's name through BeautifulSoup`\n",
    "\n",
    "Request URL\n",
    "page = requests.get(\"https://www.pgatour.com/stats/stat.02675.html\")\n",
    "soup = BeautifulSoup(page.content,'html.parser')\n",
    "name_list = []\n",
    "names = soup.find_all(\"td\", {\"class\":\"player-name\"})\n",
    "for golfer in range(1):\n",
    "    all = soup.find_all(\"td\", \"player-name\")\n",
    "    for name in all:\n",
    "        name_list.append(name.text.replace(\"\\n\", \"\").strip())\n",
    "\n",
    "`Second way to bring in player's names through pandas`\n",
    "\n",
    "name_list = pd.read_html(\"https://www.pgatour.com/stats/stat.02675.html\", header=0)[1]\n",
    "\n",
    "golfer = name_list['PLAYER NAME']\n",
    "\n",
    "golfer = pd.DataFrame(golfer)"
   ]
  }
 ]
}